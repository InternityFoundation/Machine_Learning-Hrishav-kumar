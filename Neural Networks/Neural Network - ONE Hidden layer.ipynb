{
 "cells": [
  {
   "cell_type": "code",
   "execution_count": 13,
   "metadata": {},
   "outputs": [],
   "source": [
    "import numpy as np"
   ]
  },
  {
   "cell_type": "code",
   "execution_count": 14,
   "metadata": {},
   "outputs": [
    {
     "data": {
      "text/plain": [
       "((4, 2), (4, 1))"
      ]
     },
     "execution_count": 14,
     "metadata": {},
     "output_type": "execute_result"
    }
   ],
   "source": [
    "x = np.array([[0,0],[0,1],[1,0],[1,1]])\n",
    "y = np.array([[0,1,1,0]]).T\n",
    "x.shape,y.shape"
   ]
  },
  {
   "cell_type": "code",
   "execution_count": 15,
   "metadata": {},
   "outputs": [],
   "source": [
    "def sig(z):\n",
    "    return 1/(1+np.exp(-z))"
   ]
  },
  {
   "cell_type": "code",
   "execution_count": 16,
   "metadata": {},
   "outputs": [],
   "source": [
    "def derivativeSig(z):\n",
    "    return sig(z)*(1-sig(z))"
   ]
  },
  {
   "cell_type": "code",
   "execution_count": 17,
   "metadata": {},
   "outputs": [],
   "source": [
    "\n",
    "wh = 2*np.random.random((2,2))-1\n",
    "bh = 2*np.random.random((1,2))-1\n",
    "wo = 2*np.random.random((2,1))-1\n",
    "bo = 2*np.random.random((1,1))-1\n",
    "lr = 0.1"
   ]
  },
  {
   "cell_type": "code",
   "execution_count": 18,
   "metadata": {},
   "outputs": [
    {
     "data": {
      "text/plain": [
       "(array([[0.05296537],\n",
       "        [0.94251483],\n",
       "        [0.94800244],\n",
       "        [0.0472866 ]]), array([[ 4.4852731 ,  5.75174387],\n",
       "        [-4.76856364, -5.83424239]]), array([[-2.40828475,  3.11192084]]), array([[ 7.54931642],\n",
       "        [-7.03138595]]), array([[3.22487936]]))"
      ]
     },
     "execution_count": 18,
     "metadata": {},
     "output_type": "execute_result"
    }
   ],
   "source": [
    "\n",
    "\n",
    "\n",
    "for iter in range(10000):\n",
    "    output0 = x\n",
    "    inputHidden = np.dot(x,wh) + bh\n",
    "    outputHidden = sig(inputHidden)\n",
    "    inputForOutputLayer = np.dot(outputHidden,wo)+ bo\n",
    "    output = sig(inputForOutputLayer)\n",
    "\n",
    "    first_term_for_output_layer = output - y\n",
    "    second_term_for_output_layer = derivativeSig(inputForOutputLayer)\n",
    "    first_two_for_output_layer = first_term_for_output_layer * second_term_for_output_layer\n",
    "\n",
    "    first_term_for_hidden_layer = np.dot(first_two_for_output_layer,wo.T)\n",
    "    second_term_for_hidden_layer = derivativeSig(inputHidden)\n",
    "    first_two_for_hidden_layer = first_term_for_hidden_layer * second_term_for_hidden_layer\n",
    "\n",
    "    changes_for_output_layer = np.dot(outputHidden.T,first_two_for_output_layer)\n",
    "    bias_change_for_output_layer = np.sum(first_two_for_output_layer,axis = 0,keepdims = True)\n",
    "\n",
    "    changes_for_hidden_layer = np.dot(output0.T,first_two_for_hidden_layer)\n",
    "    bias_change_for_hidden_layer = np.sum(first_two_for_hidden_layer,axis = 0,keepdims = True)\n",
    "\n",
    "    wo = wo - lr * changes_for_output_layer\n",
    "    bo = bo - lr * bias_change_for_output_layer\n",
    "\n",
    "    wh = wh - lr * changes_for_hidden_layer\n",
    "    bh = bh - lr * bias_change_for_hidden_layer\n",
    "    \n",
    "output0 = x\n",
    "inputHidden = np.dot(x,wh) + bh\n",
    "outputHidden = sig(np.dot(x,wh) + bh)\n",
    "inputForOutputLayer = np.dot(outputHidden,wo)+ bo\n",
    "output = sig(inputForOutputLayer)\n",
    "\n",
    "output,wh,bh,wo,bo\n",
    "#analyse the gates are 'or'  and 'nand' in hidden layer,and 'and' in output layer"
   ]
  }
 ],
 "metadata": {
  "kernelspec": {
   "display_name": "Python 3",
   "language": "python",
   "name": "python3"
  },
  "language_info": {
   "codemirror_mode": {
    "name": "ipython",
    "version": 3
   },
   "file_extension": ".py",
   "mimetype": "text/x-python",
   "name": "python",
   "nbconvert_exporter": "python",
   "pygments_lexer": "ipython3",
   "version": "3.6.5"
  }
 },
 "nbformat": 4,
 "nbformat_minor": 2
}
