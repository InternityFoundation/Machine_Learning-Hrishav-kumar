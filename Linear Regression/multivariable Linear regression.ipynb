{
 "cells": [
  {
   "cell_type": "code",
   "execution_count": 1,
   "metadata": {
    "collapsed": true
   },
   "outputs": [],
   "source": [
    "from sklearn import datasets"
   ]
  },
  {
   "cell_type": "code",
   "execution_count": 2,
   "metadata": {
    "collapsed": true
   },
   "outputs": [],
   "source": [
    "boston = datasets.load_boston() #loading the data\n",
    "x = boston.data#input\n",
    "y = boston.target#output"
   ]
  },
  {
   "cell_type": "code",
   "execution_count": 3,
   "metadata": {},
   "outputs": [
    {
     "data": {
      "text/plain": [
       "(506, 13)"
      ]
     },
     "execution_count": 3,
     "metadata": {},
     "output_type": "execute_result"
    }
   ],
   "source": [
    "x.shape"
   ]
  },
  {
   "cell_type": "code",
   "execution_count": 6,
   "metadata": {},
   "outputs": [
    {
     "name": "stdout",
     "output_type": "stream",
     "text": [
      "['CRIM' 'ZN' 'INDUS' 'CHAS' 'NOX' 'RM' 'AGE' 'DIS' 'RAD' 'TAX' 'PTRATIO'\n",
      " 'B' 'LSTAT']\n"
     ]
    },
    {
     "data": {
      "text/plain": [
       "(506, 14)"
      ]
     },
     "execution_count": 6,
     "metadata": {},
     "output_type": "execute_result"
    }
   ],
   "source": [
    "import pandas as pd\n",
    "df = pd.DataFrame(x)# make a dataframe out of given data  loaded\n",
    "print(boston.feature_names)\n",
    "df.columns = [boston.feature_names]\n",
    "df[\"age_age\"] = df.AGE ** 2\n",
    "df.describe()\n",
    "x2 = df.values # or x2 = df\n",
    "x2.shape"
   ]
  },
  {
   "cell_type": "code",
   "execution_count": 9,
   "metadata": {
    "collapsed": true
   },
   "outputs": [],
   "source": [
    "from sklearn import model_selection\n",
    "x_train,x_test, y_train,y_test = model_selection.train_test_split(x,y,random_state = 0) #so that if data is in training or testing state in first part\n",
    "x2_train,x2_test, y2_train,y2_test = model_selection.train_test_split(x2,y,random_state = 0)#it will be again ordered in the same training or testing state\n",
    "\n"
   ]
  },
  {
   "cell_type": "code",
   "execution_count": 7,
   "metadata": {
    "collapsed": true
   },
   "outputs": [],
   "source": [
    "from sklearn.linear_model import LinearRegression\n",
    "alg1 = LinearRegression()\n",
    "alg2 = LinearRegression()"
   ]
  },
  {
   "cell_type": "code",
   "execution_count": 10,
   "metadata": {},
   "outputs": [
    {
     "data": {
      "text/plain": [
       "LinearRegression(copy_X=True, fit_intercept=True, n_jobs=1, normalize=False)"
      ]
     },
     "execution_count": 10,
     "metadata": {},
     "output_type": "execute_result"
    }
   ],
   "source": [
    "alg1.fit(x_train,y_train)\n",
    "alg2.fit(x2_train,y2_train)"
   ]
  },
  {
   "cell_type": "code",
   "execution_count": 14,
   "metadata": {},
   "outputs": [
    {
     "name": "stdout",
     "output_type": "stream",
     "text": [
      "Train score:  0.769744837056\n",
      "Test score:  0.635362078667\n",
      "Train2 score:  0.770693014476\n",
      "Test2 score:  0.643183981787\n"
     ]
    }
   ],
   "source": [
    "y_pred = alg1.predict(x_test)\n",
    "train_score = alg1.score(x_train,y_train)\n",
    "test_score = alg1.score(x_test,y_test)\n",
    "#train score without modification\n",
    "print(\"Train score: \",train_score)\n",
    "print(\"Test score: \",test_score)\n",
    "#train_score with modification\n",
    "y2_pred = alg2.predict(x2_test)\n",
    "train2_score = alg2.score(x2_train,y2_train)\n",
    "test2_score = alg2.score(x2_test,y2_test)\n",
    "\n",
    "print(\"Train2 score: \",train2_score)\n",
    "print(\"Test2 score: \",test2_score)\n",
    "\n",
    "#it can be seen that score are improved\n",
    "#with more and more modification train score will increase but test score might decrease"
   ]
  },
  {
   "cell_type": "markdown",
   "metadata": {},
   "source": [
    "## Applying Polynomial regression"
   ]
  },
  {
   "cell_type": "code",
   "execution_count": 29,
   "metadata": {},
   "outputs": [
    {
     "name": "stdout",
     "output_type": "stream",
     "text": [
      "(506, 13)\n"
     ]
    },
    {
     "data": {
      "text/plain": [
       "(506, 105)"
      ]
     },
     "execution_count": 29,
     "metadata": {},
     "output_type": "execute_result"
    }
   ],
   "source": [
    "\n",
    "#now fitting all the possible 2 degree columns in the boston dataset and analysing the score\n",
    "all_col = boston.feature_names\n",
    "for i in range(len(all_col)):\n",
    "    for j in range(i,len(all_col)):\n",
    "        str = all_col[i] + \"-\" + all_col[j]\n",
    "        df[str] = df[all_col[i]] * df[all_col[j]]\n",
    "        \n",
    "x3 = df.values        \n",
    "x3_train,x3_test, y3_train,y3_test = model_selection.train_test_split(x3,y,random_state = 0)\n",
    "print(x.shape)\n",
    "x3.shape #  13c2 + 13 or (13*13)/2"
   ]
  },
  {
   "cell_type": "code",
   "execution_count": 24,
   "metadata": {},
   "outputs": [
    {
     "data": {
      "text/plain": [
       "LinearRegression(copy_X=True, fit_intercept=True, n_jobs=1, normalize=False)"
      ]
     },
     "execution_count": 24,
     "metadata": {},
     "output_type": "execute_result"
    }
   ],
   "source": [
    "alg3 = LinearRegression()\n",
    "alg3.fit(x3_train,y3_train)"
   ]
  },
  {
   "cell_type": "code",
   "execution_count": 26,
   "metadata": {},
   "outputs": [
    {
     "name": "stdout",
     "output_type": "stream",
     "text": [
      "Train2 score:  0.952352643686\n",
      "Test2 score:  0.605775489305\n"
     ]
    }
   ],
   "source": [
    "y3_pred = alg3.predict(x3_test)\n",
    "train3_score = alg3.score(x3_train,y3_train)\n",
    "test3_score = alg3.score(x3_test,y3_test)\n",
    "\n",
    "print(\"Train2 score: \",train3_score)\n",
    "print(\"Test2 score: \",test3_score)\n",
    "# we can see that the Train score improves while test score decreases an example of overfit"
   ]
  },
  {
   "cell_type": "code",
   "execution_count": null,
   "metadata": {
    "collapsed": true
   },
   "outputs": [],
   "source": []
  }
 ],
 "metadata": {
  "kernelspec": {
   "display_name": "Python 3",
   "language": "python",
   "name": "python3"
  },
  "language_info": {
   "codemirror_mode": {
    "name": "ipython",
    "version": 3
   },
   "file_extension": ".py",
   "mimetype": "text/x-python",
   "name": "python",
   "nbconvert_exporter": "python",
   "pygments_lexer": "ipython3",
   "version": "3.6.5"
  }
 },
 "nbformat": 4,
 "nbformat_minor": 2
}
