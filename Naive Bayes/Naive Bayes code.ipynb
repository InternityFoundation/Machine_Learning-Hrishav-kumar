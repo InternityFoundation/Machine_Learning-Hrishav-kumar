{
 "cells": [
  {
   "cell_type": "code",
   "execution_count": 1,
   "metadata": {
    "collapsed": true
   },
   "outputs": [],
   "source": [
    "import numpy as np"
   ]
  },
  {
   "cell_type": "code",
   "execution_count": 2,
   "metadata": {
    "collapsed": true
   },
   "outputs": [],
   "source": [
    "def fit(x_train,y_train):\n",
    "    result = {} # all possible values of y_train\n",
    "    class_values = set(y_train)#all distinct values of y_train\n",
    "    for current_class in class_values:\n",
    "        result[current_class] = {} # a dictionary for current class \n",
    "        result[\"total_data\"] = len(y_train)\n",
    "        current_class_rows = (y_train == current_class)# finding all rows from given training data for which y =ai\n",
    "        x_train_current = x_train[current_class_rows] #find x_train for such rows\n",
    "        y_train_current = y_train[current_class_rows] #find y_train for such rows\n",
    "        num_features = x_train.shape[1]\n",
    "        result[current_class][\"total_count\"] = len(x_train_current)# storing the count of y = ai\n",
    "        for j in range(1,num_features+1):\n",
    "            result[current_class][j-1] = {} # for all the features in training data, a dictionary is there\n",
    "            all_possible_values = set(x_train[:,j-1]) # all posible values of given jth feature\n",
    "            for current_value in all_possible_values:\n",
    "                result[current_class][j-1][current_value] = (x_train_current[:, j-1] == current_value).sum() # caluculating the count of all distinct(ex:-high,mid,low) possible values         \n",
    "    return result        "
   ]
  },
  {
   "cell_type": "code",
   "execution_count": 3,
   "metadata": {
    "collapsed": true
   },
   "outputs": [],
   "source": [
    "#with laplace corrrection\n",
    "#and converting ab to log(a) + log(b)\n",
    "\n",
    "def probability(dictionary, x, current_class):\n",
    "    output = 1\n",
    "    class_probab = np.log(dictionary[current_class][\"total_count\"]) - np.log(dictionary[\"total_data\"]) # p(y = ai) = count(y = ai)/total_data\n",
    "    output = class_probab\n",
    "    num_features = len(dictionary[current_class].keys())-1\n",
    "    for j in range(1,num_features+1):\n",
    "        xj = x[j-1]\n",
    "        count_current_class_with_value_xj = dictionary[current_class][j-1][xj] + 1 # with laplace correction numerator i.e., count(jth feature = xj && y = current_class)\n",
    "        count_current_class = dictionary[current_class][\"total_count\"] + len(dictionary[current_class][j-1].keys())#denominator i.e., count(y = current_class)\n",
    "        current_xj_probability = np.log(count_current_class_with_value_xj) - np.log(count_current_class)\n",
    "        output = output + current_xj_probability\n",
    "    return output    \n",
    "#watch video from 16 min\n",
    "                                                                             \n",
    "                                                                             \n",
    "def predictsinglepoint(dictionary, x):\n",
    "    classes = dictionary.keys()\n",
    "    best_p = -1000\n",
    "    best_class = -1\n",
    "    first_run = True\n",
    "    for current_class in classes:\n",
    "        if(current_class == \"total_data\"):\n",
    "            continue                                                                 \n",
    "        p_current_class = probability(dictionary,x,current_class) #probab that x data will belong to current_class\n",
    "        if(first_run or p_current_class > best_p):\n",
    "            best_p = p_current_class\n",
    "            best_class = current_class\n",
    "        first_run = False;    \n",
    "    return best_class    \n",
    "        \n",
    "def predict(dictionary,x_test):\n",
    "    y_pred = []\n",
    "    for x in x_test:\n",
    "        x_class = predictsinglepoint(dictionary, x)\n",
    "        y_pred.append(x_class)\n",
    "    return y_pred    "
   ]
  },
  {
   "cell_type": "code",
   "execution_count": 4,
   "metadata": {
    "collapsed": true
   },
   "outputs": [],
   "source": [
    "def makelabelled(column):\n",
    "    second_limit = column.mean()\n",
    "    first_limit = 0.5 * second_limit\n",
    "    third_limit = 1.5 * second_limit\n",
    "    for i in range(0,len(column)):\n",
    "        if(column[i] < first_limit):\n",
    "            column[i] = 0\n",
    "        elif(column[i] < second_limit):\n",
    "            column[i] = 1\n",
    "        elif(column[i] < third_limit):\n",
    "            column[i] = 2\n",
    "        else:\n",
    "            column[i] = 3\n",
    "     \n",
    "    return column\n",
    "            "
   ]
  },
  {
   "cell_type": "code",
   "execution_count": 5,
   "metadata": {
    "collapsed": true
   },
   "outputs": [],
   "source": [
    "from sklearn import datasets\n",
    "iris = datasets.load_iris()\n",
    "x = iris.data\n",
    "y = iris.target\n"
   ]
  },
  {
   "cell_type": "code",
   "execution_count": 6,
   "metadata": {
    "collapsed": true
   },
   "outputs": [],
   "source": [
    "for i in range(0,x.shape[-1]):\n",
    "    x[:,i] = makelabelled(x[:,i])\n",
    "    \n"
   ]
  },
  {
   "cell_type": "code",
   "execution_count": 7,
   "metadata": {
    "collapsed": true
   },
   "outputs": [],
   "source": [
    "from sklearn import model_selection\n",
    "x_train,x_test,y_train,y_test = model_selection.train_test_split(x,y,test_size = 0.25,random_state =  0)"
   ]
  },
  {
   "cell_type": "code",
   "execution_count": 15,
   "metadata": {
    "collapsed": true
   },
   "outputs": [],
   "source": [
    "dictionary = fit(x_train,y_train)"
   ]
  },
  {
   "cell_type": "code",
   "execution_count": 16,
   "metadata": {
    "collapsed": true
   },
   "outputs": [],
   "source": [
    "y_pred = predict(dictionary,x_test)"
   ]
  },
  {
   "cell_type": "code",
   "execution_count": 10,
   "metadata": {},
   "outputs": [
    {
     "name": "stdout",
     "output_type": "stream",
     "text": [
      "             precision    recall  f1-score   support\n",
      "\n",
      "          0       1.00      1.00      1.00        13\n",
      "          1       0.94      1.00      0.97        16\n",
      "          2       1.00      0.89      0.94         9\n",
      "\n",
      "avg / total       0.98      0.97      0.97        38\n",
      "\n",
      "[[13  0  0]\n",
      " [ 0 16  0]\n",
      " [ 0  1  8]]\n"
     ]
    }
   ],
   "source": [
    "from sklearn.metrics import classification_report, confusion_matrix\n",
    "print(classification_report(y_test,y_pred))\n",
    "print(confusion_matrix(y_test,y_pred))\n",
    "#doing realy well"
   ]
  },
  {
   "cell_type": "code",
   "execution_count": 11,
   "metadata": {},
   "outputs": [
    {
     "name": "stdout",
     "output_type": "stream",
     "text": [
      "             precision    recall  f1-score   support\n",
      "\n",
      "          0       1.00      0.85      0.92        13\n",
      "          1       0.76      1.00      0.86        16\n",
      "          2       1.00      0.67      0.80         9\n",
      "\n",
      "avg / total       0.90      0.87      0.87        38\n",
      "\n",
      "[[11  2  0]\n",
      " [ 0 16  0]\n",
      " [ 0  3  6]]\n"
     ]
    }
   ],
   "source": [
    "#finding probabilities for continuous valued feature\n",
    "\n",
    "from sklearn.naive_bayes import GaussianNB\n",
    "clf = GaussianNB()\n",
    "clf.fit(x_train,y_train)\n",
    "y_pred = clf.predict(x_test)\n",
    "print(classification_report(y_test,y_pred))\n",
    "print(confusion_matrix(y_test,y_pred))\n",
    "\n",
    "#not that accurate to our prediction "
   ]
  },
  {
   "cell_type": "code",
   "execution_count": null,
   "metadata": {
    "collapsed": true
   },
   "outputs": [],
   "source": []
  }
 ],
 "metadata": {
  "kernelspec": {
   "display_name": "Python 3",
   "language": "python",
   "name": "python3"
  },
  "language_info": {
   "codemirror_mode": {
    "name": "ipython",
    "version": 3
   },
   "file_extension": ".py",
   "mimetype": "text/x-python",
   "name": "python",
   "nbconvert_exporter": "python",
   "pygments_lexer": "ipython3",
   "version": "3.6.5"
  }
 },
 "nbformat": 4,
 "nbformat_minor": 2
}
